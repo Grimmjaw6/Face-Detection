{
 "cells": [
  {
   "cell_type": "code",
   "execution_count": 1,
   "metadata": {},
   "outputs": [
    {
     "name": "stderr",
     "output_type": "stream",
     "text": [
      "Using TensorFlow backend.\n"
     ]
    }
   ],
   "source": [
    "#importing libs\n",
    "from keras.layers import Input,Flatten,Dense,Dropout\n",
    "from keras.models import Model,Sequential\n",
    "from sklearn.model_selection import train_test_split\n",
    "from keras import optimizers\n",
    "import numpy as np \n",
    "import pandas as pd\n",
    "from keras import metrics\n",
    "from keras.optimizers import Adam,SGD\n",
    "from keras.regularizers import l2\n",
    "import cv2"
   ]
  },
  {
   "cell_type": "code",
   "execution_count": 2,
   "metadata": {
    "collapsed": true
   },
   "outputs": [],
   "source": [
    "from numpy.random import seed\n",
    "seed(1)\n",
    "from tensorflow import set_random_seed\n",
    "set_random_seed(3)"
   ]
  },
  {
   "cell_type": "code",
   "execution_count": 3,
   "metadata": {
    "collapsed": true
   },
   "outputs": [],
   "source": [
    "#loading data \n",
    "Data = np.load('NN_100_100_cropped.npy')\n",
    "#imgs\n",
    "X = Data[:,0]\n",
    "#labels\n",
    "Y = Data[:,1]"
   ]
  },
  {
   "cell_type": "code",
   "execution_count": 4,
   "metadata": {},
   "outputs": [
    {
     "data": {
      "text/plain": [
       "(100, 100, 3)"
      ]
     },
     "execution_count": 4,
     "metadata": {},
     "output_type": "execute_result"
    }
   ],
   "source": [
    "X[0].shape"
   ]
  },
  {
   "cell_type": "code",
   "execution_count": 5,
   "metadata": {},
   "outputs": [
    {
     "name": "stdout",
     "output_type": "stream",
     "text": [
      "(531, 30000)\n"
     ]
    }
   ],
   "source": [
    "a = []\n",
    "for i in X:\n",
    "    a.append(i.flatten())\n",
    "X_data = np.array(a)\n",
    "print (X_data.shape)\n",
    "X_data = X_data / 255"
   ]
  },
  {
   "cell_type": "code",
   "execution_count": 6,
   "metadata": {
    "collapsed": true
   },
   "outputs": [],
   "source": [
    "#creating pandas frame for one-hot encoding\n",
    "df = pd.DataFrame(Y)\n",
    "dummies = pd.get_dummies(df)\n",
    "Y_data = np.array(pd.get_dummies(df))"
   ]
  },
  {
   "cell_type": "code",
   "execution_count": 7,
   "metadata": {},
   "outputs": [
    {
     "data": {
      "text/plain": [
       "(531, 41)"
      ]
     },
     "execution_count": 7,
     "metadata": {},
     "output_type": "execute_result"
    }
   ],
   "source": [
    "# after encoding\n",
    "Y_data.shape"
   ]
  },
  {
   "cell_type": "code",
   "execution_count": 8,
   "metadata": {
    "collapsed": true
   },
   "outputs": [],
   "source": [
    "PCA_output_n = 200\n",
    "from sklearn.decomposition import PCA\n",
    "pca = PCA(n_components=PCA_output_n)"
   ]
  },
  {
   "cell_type": "code",
   "execution_count": 9,
   "metadata": {},
   "outputs": [
    {
     "name": "stdout",
     "output_type": "stream",
     "text": [
      "0.955429954846\n"
     ]
    }
   ],
   "source": [
    "pca.fit(X_data)\n",
    "print (pca.explained_variance_ratio_.sum())\n",
    "X_temp_data = pca.transform(X_data)"
   ]
  },
  {
   "cell_type": "code",
   "execution_count": 10,
   "metadata": {
    "collapsed": true
   },
   "outputs": [],
   "source": [
    "from sklearn.model_selection import train_test_split\n",
    "X_train, X_test, y_train, y_test = train_test_split(X_temp_data,Y, test_size=0.1)"
   ]
  },
  {
   "cell_type": "code",
   "execution_count": 37,
   "metadata": {},
   "outputs": [
    {
     "data": {
      "text/plain": [
       "0.87037037037037035"
      ]
     },
     "execution_count": 37,
     "metadata": {},
     "output_type": "execute_result"
    }
   ],
   "source": [
    "from sklearn import svm\n",
    "clf = svm.SVC(gamma=0.0001,C=5,kernel='rbf',degree=3,probability=True)\n",
    "clf.fit(X_train, y_train)\n",
    "clf.score(X_test,y_test)"
   ]
  },
  {
   "cell_type": "code",
   "execution_count": 38,
   "metadata": {
    "collapsed": true
   },
   "outputs": [],
   "source": [
    "#checking things\n",
    "from keras.preprocessing.image import load_img\n",
    "from keras.preprocessing import image\n",
    "import os\n",
    "import cv2\n",
    "\n",
    "face_cascade = cv2.CascadeClassifier( os.getcwd() + '/haarcascade_frontalface_default.xml')\n",
    "real_label = np.array(dummies.axes)\n",
    "\n",
    "def predict_output(img_name):\n",
    "    img = cv2.imread(os.getcwd()  + img_name)\n",
    "    gray = cv2.cvtColor(img, cv2.COLOR_BGR2GRAY)\n",
    "    faces = face_cascade.detectMultiScale(gray, 1.3, 5)\n",
    "    faces = np.array(faces)\n",
    "    if faces.size:\n",
    "        [x,y,w,h] = faces[0]\n",
    "        cropped_img = img[y:y+h, x:x+w]\n",
    "        cropped_img = cv2.resize(cropped_img,(100,100)).flatten()\n",
    "        cropped_img = np.expand_dims(cropped_img,axis=0)\n",
    "        cropped_img = cropped_img / 255\n",
    "        features = pca.transform(cropped_img)\n",
    "        x = clf.predict(features)\n",
    "        print (img_name,x)"
   ]
  },
  {
   "cell_type": "code",
   "execution_count": 39,
   "metadata": {},
   "outputs": [
    {
     "name": "stdout",
     "output_type": "stream",
     "text": [
      "/test_in_wild/201501038.jpeg ['201501053']\n",
      "/test_in_wild/201501067.jpg ['201501067']\n",
      "/test_in_wild/201501101.jpg ['201501101']\n",
      "/test_in_wild/harsh.jpeg ['201501097']\n",
      "/test_in_wild/kanan_201501121.jpeg ['201501121']\n",
      "/test_in_wild/kuldeep.jpeg ['201501039']\n",
      "/test_in_wild/shreejal_112.jpeg ['201501088']\n"
     ]
    }
   ],
   "source": [
    "test_wild_images = os.listdir(os.getcwd() + '/test_in_wild/')\n",
    "for i in test_wild_images:\n",
    "    temp =predict_output('/test_in_wild/'+i)\n",
    "    #print (i,' =>',temp)"
   ]
  },
  {
   "cell_type": "code",
   "execution_count": null,
   "metadata": {
    "collapsed": true
   },
   "outputs": [],
   "source": [
    "# cross checking all photos\n",
    "wrong_detect = []\n",
    "def cross_verify():\n",
    "    files = os.listdir(os.getcwd() + '/data/')\n",
    "    data_img_and_label = []\n",
    "    for f in files:\n",
    "        temp_label = f.split('_')[0][:9]\n",
    "        a = predict_output('/data/' +f)\n",
    "        if a != temp_label:\n",
    "            print ('Original :',f,'prediction:',a)\n",
    "            wrong_detect.append(temp_label)\n",
    "#cross_verify()"
   ]
  },
  {
   "cell_type": "code",
   "execution_count": null,
   "metadata": {
    "collapsed": true
   },
   "outputs": [],
   "source": [
    "#wrong_detect = set(wrong_detect)"
   ]
  },
  {
   "cell_type": "code",
   "execution_count": null,
   "metadata": {
    "collapsed": true
   },
   "outputs": [],
   "source": [
    "#wrong_detect"
   ]
  },
  {
   "cell_type": "code",
   "execution_count": null,
   "metadata": {
    "collapsed": true
   },
   "outputs": [],
   "source": []
  }
 ],
 "metadata": {
  "anaconda-cloud": {},
  "kernelspec": {
   "display_name": "Python 3",
   "language": "python",
   "name": "python3"
  },
  "language_info": {
   "codemirror_mode": {
    "name": "ipython",
    "version": 3
   },
   "file_extension": ".py",
   "mimetype": "text/x-python",
   "name": "python",
   "nbconvert_exporter": "python",
   "pygments_lexer": "ipython3",
   "version": "3.6.5"
  }
 },
 "nbformat": 4,
 "nbformat_minor": 2
}
